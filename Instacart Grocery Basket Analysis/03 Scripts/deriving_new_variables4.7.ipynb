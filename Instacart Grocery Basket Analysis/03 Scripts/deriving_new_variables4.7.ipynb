{
 "cells": [
  {
   "cell_type": "markdown",
   "id": "f77aea8b-b898-4305-9641-b0c83ca18a68",
   "metadata": {},
   "source": [
    "# Importing libraries"
   ]
  },
  {
   "cell_type": "code",
   "execution_count": 2,
   "id": "619c58c5-46cb-4fcd-b09c-98fbf6618129",
   "metadata": {},
   "outputs": [],
   "source": [
    "import pandas as pd\n",
    "import numpy as np\n",
    "import os"
   ]
  },
  {
   "cell_type": "markdown",
   "id": "d1bf0084-a396-42a0-adea-92132e88bd4e",
   "metadata": {},
   "source": [
    "## Importing Data"
   ]
  },
  {
   "cell_type": "code",
   "execution_count": 5,
   "id": "616461a2-18b3-4993-b4f2-319895ba7201",
   "metadata": {},
   "outputs": [],
   "source": [
    "# create path \n",
    "path = r'C:\\Users\\smerg\\Instacart Grocery Basket Analysis'\n",
    "\n",
    "# order & product merged\n",
    "df_ords_prods_merge = pd.read_csv(os.path.join(path,'02 Data', 'Prepared Data', 'orders_products_combined.csv'), index_col = False)"
   ]
  },
  {
   "cell_type": "code",
   "execution_count": 7,
   "id": "d0eda123-a712-4924-acf0-b148f8235521",
   "metadata": {},
   "outputs": [],
   "source": [
    "df = df_ords_prods_merge[:1000000]"
   ]
  },
  {
   "cell_type": "code",
   "execution_count": 13,
   "id": "8eebd975-3674-426d-a554-5a50cdcc55ae",
   "metadata": {},
   "outputs": [
    {
     "data": {
      "text/plain": [
       "(1000000, 12)"
      ]
     },
     "execution_count": 13,
     "metadata": {},
     "output_type": "execute_result"
    }
   ],
   "source": [
    "df.shape"
   ]
  },
  {
   "cell_type": "code",
   "execution_count": 11,
   "id": "6766bfb9-f75a-4ae2-aeb1-9a37bbb40344",
   "metadata": {},
   "outputs": [],
   "source": [
    "# define a function\n",
    "def price_label(row):\n",
    "\n",
    "  if row['prices'] <= 5:\n",
    "    return 'Low-range product'\n",
    "  elif (row['prices'] > 5) and (row['prices'] <= 15):\n",
    "    return 'Mid-range product'\n",
    "  elif row['prices'] > 15:\n",
    "    return 'High range'\n",
    "  else: return 'Not enough data'     "
   ]
  },
  {
   "cell_type": "code",
   "execution_count": null,
   "id": "e6f85a5a-e825-4cf6-a515-edb7f1b90559",
   "metadata": {},
   "outputs": [],
   "source": []
  },
  {
   "cell_type": "code",
   "execution_count": null,
   "id": "bfe366c5-f4b4-4365-a35c-e7951de413e8",
   "metadata": {},
   "outputs": [],
   "source": []
  }
 ],
 "metadata": {
  "kernelspec": {
   "display_name": "Python 3 (ipykernel)",
   "language": "python",
   "name": "python3"
  },
  "language_info": {
   "codemirror_mode": {
    "name": "ipython",
    "version": 3
   },
   "file_extension": ".py",
   "mimetype": "text/x-python",
   "name": "python",
   "nbconvert_exporter": "python",
   "pygments_lexer": "ipython3",
   "version": "3.12.4"
  }
 },
 "nbformat": 4,
 "nbformat_minor": 5
}
