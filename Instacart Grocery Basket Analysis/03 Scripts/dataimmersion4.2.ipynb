{
 "cells": [
  {
   "cell_type": "code",
   "execution_count": 1,
   "id": "c7941653-fafd-4484-9ae2-f8f9f4044c9e",
   "metadata": {},
   "outputs": [],
   "source": [
    "# .01 python data types"
   ]
  },
  {
   "cell_type": "code",
   "execution_count": 2,
   "id": "2045aeed-afaa-45b5-87cd-9326bfd470a2",
   "metadata": {},
   "outputs": [],
   "source": [
    "x = 2"
   ]
  },
  {
   "cell_type": "code",
   "execution_count": 3,
   "id": "7e51ad78-6aaa-41b7-971c-8fa21ad7fd2d",
   "metadata": {},
   "outputs": [
    {
     "data": {
      "text/plain": [
       "2"
      ]
     },
     "execution_count": 3,
     "metadata": {},
     "output_type": "execute_result"
    }
   ],
   "source": [
    "x"
   ]
  },
  {
   "cell_type": "code",
   "execution_count": 4,
   "id": "b4de5609-4e82-47d4-9760-1eb0e79bbb63",
   "metadata": {},
   "outputs": [
    {
     "name": "stdout",
     "output_type": "stream",
     "text": [
      "2\n"
     ]
    }
   ],
   "source": [
    "print(x)"
   ]
  },
  {
   "cell_type": "code",
   "execution_count": 5,
   "id": "671e790e-8531-4de6-8dfd-e69c2eed239e",
   "metadata": {},
   "outputs": [
    {
     "data": {
      "text/plain": [
       "int"
      ]
     },
     "execution_count": 5,
     "metadata": {},
     "output_type": "execute_result"
    }
   ],
   "source": [
    "type(x)"
   ]
  },
  {
   "cell_type": "code",
   "execution_count": 6,
   "id": "9cea4c58-1b45-4e2c-94f7-93bd396f0c83",
   "metadata": {},
   "outputs": [],
   "source": [
    "y = 5.678"
   ]
  },
  {
   "cell_type": "code",
   "execution_count": 7,
   "id": "72aacc46-b0e1-4e51-8489-0347a5cf50ee",
   "metadata": {},
   "outputs": [
    {
     "data": {
      "text/plain": [
       "float"
      ]
     },
     "execution_count": 7,
     "metadata": {},
     "output_type": "execute_result"
    }
   ],
   "source": [
    "type(y)"
   ]
  },
  {
   "cell_type": "code",
   "execution_count": 8,
   "id": "84d02acb-1d06-4eba-9e7f-a73d8bd0f3d4",
   "metadata": {},
   "outputs": [],
   "source": [
    "z = 'Brazil'"
   ]
  },
  {
   "cell_type": "code",
   "execution_count": 9,
   "id": "21a017ed-b0c6-4933-ac74-b3ba4ea5d5ff",
   "metadata": {},
   "outputs": [
    {
     "data": {
      "text/plain": [
       "str"
      ]
     },
     "execution_count": 9,
     "metadata": {},
     "output_type": "execute_result"
    }
   ],
   "source": [
    "type(z)"
   ]
  },
  {
   "cell_type": "code",
   "execution_count": 11,
   "id": "a5051008-f747-4ec0-8378-c3285af9f9b7",
   "metadata": {},
   "outputs": [
    {
     "data": {
      "text/plain": [
       "str"
      ]
     },
     "execution_count": 11,
     "metadata": {},
     "output_type": "execute_result"
    }
   ],
   "source": [
    "type('Mania')"
   ]
  },
  {
   "cell_type": "code",
   "execution_count": 15,
   "id": "bb921e5b-08d4-4fec-8d2a-f9b6e7d65203",
   "metadata": {},
   "outputs": [
    {
     "data": {
      "text/plain": [
       "bool"
      ]
     },
     "execution_count": 15,
     "metadata": {},
     "output_type": "execute_result"
    }
   ],
   "source": [
    "type(True)"
   ]
  },
  {
   "cell_type": "code",
   "execution_count": 14,
   "id": "7c12ba34-006d-4377-ab67-02ee1ea62555",
   "metadata": {},
   "outputs": [
    {
     "data": {
      "text/plain": [
       "bool"
      ]
     },
     "execution_count": 14,
     "metadata": {},
     "output_type": "execute_result"
    }
   ],
   "source": [
    "type(False)"
   ]
  },
  {
   "cell_type": "code",
   "execution_count": 19,
   "id": "5f11372a-0efd-4bc4-9dfc-89f0d0590044",
   "metadata": {},
   "outputs": [
    {
     "name": "stdout",
     "output_type": "stream",
     "text": [
      "2\n"
     ]
    }
   ],
   "source": [
    "print(x)"
   ]
  },
  {
   "cell_type": "code",
   "execution_count": 20,
   "id": "f1bbdaf7-0c60-40a8-ad15-476382c982cd",
   "metadata": {},
   "outputs": [
    {
     "data": {
      "text/plain": [
       "6"
      ]
     },
     "execution_count": 20,
     "metadata": {},
     "output_type": "execute_result"
    }
   ],
   "source": [
    "x + 4"
   ]
  },
  {
   "cell_type": "code",
   "execution_count": 21,
   "id": "44545c15-048f-46fa-8a98-33e083bc491d",
   "metadata": {},
   "outputs": [],
   "source": [
    "x = x + 4"
   ]
  },
  {
   "cell_type": "code",
   "execution_count": 22,
   "id": "756ca6d8-e7b2-4cdb-8d1a-66e30f5e46bc",
   "metadata": {},
   "outputs": [
    {
     "name": "stdout",
     "output_type": "stream",
     "text": [
      "6\n"
     ]
    }
   ],
   "source": [
    "print(x)"
   ]
  },
  {
   "cell_type": "code",
   "execution_count": 23,
   "id": "e3dfd2ac-6bb8-4bcd-a7bf-e6ac868efcf8",
   "metadata": {},
   "outputs": [],
   "source": [
    "a = 'Hello, '"
   ]
  },
  {
   "cell_type": "code",
   "execution_count": 24,
   "id": "b1871b8f-ce47-4a01-9b5a-abe7d2e72dfa",
   "metadata": {},
   "outputs": [],
   "source": [
    "b = 'Marley'"
   ]
  },
  {
   "cell_type": "code",
   "execution_count": 25,
   "id": "26c6a225-daa0-40b5-85fe-36d76d072ef7",
   "metadata": {},
   "outputs": [
    {
     "data": {
      "text/plain": [
       "'Hello, Marley'"
      ]
     },
     "execution_count": 25,
     "metadata": {},
     "output_type": "execute_result"
    }
   ],
   "source": [
    "a + b"
   ]
  },
  {
   "cell_type": "code",
   "execution_count": 26,
   "id": "50e2d596-0136-4128-9aa1-2fa690cf881d",
   "metadata": {},
   "outputs": [
    {
     "ename": "TypeError",
     "evalue": "unsupported operand type(s) for -: 'str' and 'str'",
     "output_type": "error",
     "traceback": [
      "\u001b[1;31m---------------------------------------------------------------------------\u001b[0m",
      "\u001b[1;31mTypeError\u001b[0m                                 Traceback (most recent call last)",
      "Cell \u001b[1;32mIn[26], line 1\u001b[0m\n\u001b[1;32m----> 1\u001b[0m \u001b[38;5;124m'\u001b[39m\u001b[38;5;124mfootball\u001b[39m\u001b[38;5;124m'\u001b[39m \u001b[38;5;241m-\u001b[39m \u001b[38;5;124m'\u001b[39m\u001b[38;5;124mfoot\u001b[39m\u001b[38;5;124m'\u001b[39m\n",
      "\u001b[1;31mTypeError\u001b[0m: unsupported operand type(s) for -: 'str' and 'str'"
     ]
    }
   ],
   "source": [
    "'football' - 'foot'"
   ]
  },
  {
   "cell_type": "code",
   "execution_count": 28,
   "id": "0eead8f7-4246-4e11-85cc-a2ff6d6cc765",
   "metadata": {},
   "outputs": [],
   "source": [
    "n = 'potato'"
   ]
  },
  {
   "cell_type": "code",
   "execution_count": 29,
   "id": "f1305fe7-91ca-40aa-a303-0ea4b7893985",
   "metadata": {},
   "outputs": [
    {
     "data": {
      "text/plain": [
       "'potatopotatopotatopotatopotatopotatopotatopotatopotatopotatopotatopotato'"
      ]
     },
     "execution_count": 29,
     "metadata": {},
     "output_type": "execute_result"
    }
   ],
   "source": [
    "n * 12"
   ]
  },
  {
   "cell_type": "code",
   "execution_count": 30,
   "id": "7b3b1455-0313-417b-90e4-2f7033789191",
   "metadata": {},
   "outputs": [
    {
     "data": {
      "text/plain": [
       "False"
      ]
     },
     "execution_count": 30,
     "metadata": {},
     "output_type": "execute_result"
    }
   ],
   "source": [
    "x == y"
   ]
  },
  {
   "cell_type": "code",
   "execution_count": 31,
   "id": "079d837c-f012-43ca-9a18-dd7b852daad2",
   "metadata": {},
   "outputs": [
    {
     "data": {
      "text/plain": [
       "bool"
      ]
     },
     "execution_count": 31,
     "metadata": {},
     "output_type": "execute_result"
    }
   ],
   "source": [
    "type(x == y)"
   ]
  },
  {
   "cell_type": "code",
   "execution_count": 32,
   "id": "63959320-9b3f-4d52-91ec-d6c9a88c0ca8",
   "metadata": {},
   "outputs": [],
   "source": [
    "a = 40"
   ]
  },
  {
   "cell_type": "code",
   "execution_count": 33,
   "id": "b7298460-2478-4e10-adcd-e4d413ad1bb7",
   "metadata": {},
   "outputs": [],
   "source": [
    "b = 60"
   ]
  },
  {
   "cell_type": "code",
   "execution_count": 34,
   "id": "f7d8d003-23ea-4deb-be11-6b3a6499413b",
   "metadata": {},
   "outputs": [
    {
     "data": {
      "text/plain": [
       "100"
      ]
     },
     "execution_count": 34,
     "metadata": {},
     "output_type": "execute_result"
    }
   ],
   "source": [
    "a + b"
   ]
  },
  {
   "cell_type": "code",
   "execution_count": 35,
   "id": "2e97158a-75b7-48dc-aeec-be58b43de1f1",
   "metadata": {},
   "outputs": [],
   "source": [
    "c = 150"
   ]
  },
  {
   "cell_type": "code",
   "execution_count": 36,
   "id": "e788366b-b0ac-4a0a-bf4e-0820cfbc7315",
   "metadata": {},
   "outputs": [],
   "source": [
    "d = 50"
   ]
  },
  {
   "cell_type": "code",
   "execution_count": 37,
   "id": "54e6ec40-f107-4dec-83a1-4371eda923fa",
   "metadata": {},
   "outputs": [
    {
     "data": {
      "text/plain": [
       "100"
      ]
     },
     "execution_count": 37,
     "metadata": {},
     "output_type": "execute_result"
    }
   ],
   "source": [
    "c - d"
   ]
  },
  {
   "cell_type": "code",
   "execution_count": 38,
   "id": "2fab6186-50fd-4dfc-9681-0a825ddeba74",
   "metadata": {},
   "outputs": [],
   "source": [
    "e = 200"
   ]
  },
  {
   "cell_type": "code",
   "execution_count": 39,
   "id": "75579590-aec7-414e-9d9d-2d886dcc6616",
   "metadata": {},
   "outputs": [],
   "source": [
    "f = 100"
   ]
  },
  {
   "cell_type": "code",
   "execution_count": 40,
   "id": "d8f5e946-e2c2-445d-aecf-e5824dc16722",
   "metadata": {},
   "outputs": [],
   "source": [
    "g = 0"
   ]
  },
  {
   "cell_type": "code",
   "execution_count": 41,
   "id": "9b10a57a-7d9c-4888-a65d-2c591c13e942",
   "metadata": {},
   "outputs": [
    {
     "data": {
      "text/plain": [
       "100"
      ]
     },
     "execution_count": 41,
     "metadata": {},
     "output_type": "execute_result"
    }
   ],
   "source": [
    "e - f + g"
   ]
  },
  {
   "cell_type": "code",
   "execution_count": 42,
   "id": "40d479e3-ad43-45d6-bd1f-38b3f7bbc2ce",
   "metadata": {},
   "outputs": [],
   "source": [
    "float1 = 5.5"
   ]
  },
  {
   "cell_type": "code",
   "execution_count": 43,
   "id": "b7e6d7c2-c5f8-450f-9d6c-1943ae9a93a2",
   "metadata": {},
   "outputs": [],
   "source": [
    "float2 = 2.2"
   ]
  },
  {
   "cell_type": "code",
   "execution_count": 44,
   "id": "5b8f9908-c6fc-4430-bed2-0e190d23288d",
   "metadata": {},
   "outputs": [
    {
     "data": {
      "text/plain": [
       "2.5"
      ]
     },
     "execution_count": 44,
     "metadata": {},
     "output_type": "execute_result"
    }
   ],
   "source": [
    "float1 / float2"
   ]
  },
  {
   "cell_type": "code",
   "execution_count": 46,
   "id": "312b7b39-21b6-4105-8c1f-eee61ba2f520",
   "metadata": {},
   "outputs": [],
   "source": [
    "part1 = 'Py'"
   ]
  },
  {
   "cell_type": "code",
   "execution_count": 47,
   "id": "e887b1d0-2c29-4413-8ef6-800b33e8fcc1",
   "metadata": {},
   "outputs": [],
   "source": [
    "part2 = 'thon'"
   ]
  },
  {
   "cell_type": "code",
   "execution_count": 48,
   "id": "b91d1a9a-212c-4fda-89f0-e358eb3d96d7",
   "metadata": {},
   "outputs": [
    {
     "data": {
      "text/plain": [
       "'Python'"
      ]
     },
     "execution_count": 48,
     "metadata": {},
     "output_type": "execute_result"
    }
   ],
   "source": [
    "part1 + part2"
   ]
  },
  {
   "cell_type": "code",
   "execution_count": 52,
   "id": "7e5c1213-34ea-4a70-991d-0abc3e79034e",
   "metadata": {},
   "outputs": [],
   "source": [
    "str1 = 'Learning '"
   ]
  },
  {
   "cell_type": "code",
   "execution_count": 54,
   "id": "afb40a9b-8ec5-4d81-9a82-82dd64991b28",
   "metadata": {},
   "outputs": [],
   "source": [
    "str2 = 'Python '"
   ]
  },
  {
   "cell_type": "code",
   "execution_count": 60,
   "id": "98586678-d048-4d67-9fd6-c2775171f91d",
   "metadata": {},
   "outputs": [],
   "source": [
    "str3 = 'is fun.'"
   ]
  },
  {
   "cell_type": "code",
   "execution_count": 61,
   "id": "2eb96b68-e7c4-4145-9d51-9dbedef2f308",
   "metadata": {},
   "outputs": [
    {
     "data": {
      "text/plain": [
       "'Learning Python is fun.'"
      ]
     },
     "execution_count": 61,
     "metadata": {},
     "output_type": "execute_result"
    }
   ],
   "source": [
    "str1 + str2 +str3"
   ]
  },
  {
   "cell_type": "code",
   "execution_count": 57,
   "id": "8c713338-0cce-40d3-9915-515e2b0c544e",
   "metadata": {},
   "outputs": [],
   "source": [
    "str4 = 'Data ' "
   ]
  },
  {
   "cell_type": "code",
   "execution_count": 58,
   "id": "846773cf-f5db-43cb-854e-44f5f4cf0ebe",
   "metadata": {},
   "outputs": [],
   "source": [
    "str5 = 'analisys '"
   ]
  },
  {
   "cell_type": "code",
   "execution_count": 59,
   "id": "49695686-73b3-4526-8995-f4fc7207dc9e",
   "metadata": {},
   "outputs": [],
   "source": [
    "str6 = 'is interesting.'"
   ]
  },
  {
   "cell_type": "code",
   "execution_count": 62,
   "id": "98f6b063-52ac-45aa-8a9f-6d5fdb6662f2",
   "metadata": {},
   "outputs": [
    {
     "data": {
      "text/plain": [
       "'Data analisys is interesting.'"
      ]
     },
     "execution_count": 62,
     "metadata": {},
     "output_type": "execute_result"
    }
   ],
   "source": [
    "str4 + str5 + str6"
   ]
  },
  {
   "cell_type": "code",
   "execution_count": null,
   "id": "d45d8609-7f5f-4a2a-a49a-56e4fba6a43f",
   "metadata": {},
   "outputs": [],
   "source": []
  }
 ],
 "metadata": {
  "kernelspec": {
   "display_name": "Python 3 (ipykernel)",
   "language": "python",
   "name": "python3"
  },
  "language_info": {
   "codemirror_mode": {
    "name": "ipython",
    "version": 3
   },
   "file_extension": ".py",
   "mimetype": "text/x-python",
   "name": "python",
   "nbconvert_exporter": "python",
   "pygments_lexer": "ipython3",
   "version": "3.12.4"
  }
 },
 "nbformat": 4,
 "nbformat_minor": 5
}
